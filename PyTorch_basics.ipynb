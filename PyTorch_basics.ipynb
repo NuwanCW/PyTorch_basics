{
 "cells": [
  {
   "cell_type": "code",
   "execution_count": 1,
   "id": "4e3f267f",
   "metadata": {},
   "outputs": [],
   "source": [
    "import numpy as np\n",
    "import torch"
   ]
  },
  {
   "cell_type": "code",
   "execution_count": 2,
   "id": "566ae7e1",
   "metadata": {},
   "outputs": [
    {
     "data": {
      "text/plain": [
       "<torch._C.Generator at 0x7f4f8b0fdfd0>"
      ]
     },
     "execution_count": 2,
     "metadata": {},
     "output_type": "execute_result"
    }
   ],
   "source": [
    "SEED=2000\n",
    "np.random.seed(seed=SEED)\n",
    "torch.manual_seed(SEED)"
   ]
  },
  {
   "cell_type": "code",
   "execution_count": 4,
   "id": "5eff0847",
   "metadata": {},
   "outputs": [
    {
     "name": "stdout",
     "output_type": "stream",
     "text": [
      "Type: torch.FloatTensor\n",
      "Size: torch.Size([2, 3])\n",
      "Values: \n",
      "tensor([[-0.4922,  0.0569,  0.1592],\n",
      "        [ 0.7043, -0.7137, -0.1834]])\n"
     ]
    }
   ],
   "source": [
    "#Creating a random tensor\n",
    "x = torch.randn(2,3) # gousian distribution | for uniform rand(2,3)\n",
    "print(f'Type: {x.type()}')\n",
    "print(f'Size: {x.shape}')\n",
    "print(f'Values: \\n{x}')"
   ]
  },
  {
   "cell_type": "code",
   "execution_count": 5,
   "id": "a610f16b",
   "metadata": {},
   "outputs": [
    {
     "name": "stdout",
     "output_type": "stream",
     "text": [
      "tensor([[0., 0., 0.],\n",
      "        [0., 0., 0.]])\n",
      "tensor([[1., 1., 1.],\n",
      "        [1., 1., 1.]])\n"
     ]
    }
   ],
   "source": [
    "# Zeros and ones tensor\n",
    "x = torch.zeros(2,3)\n",
    "print(x)\n",
    "x = torch.ones(2,3)\n",
    "print(x)"
   ]
  },
  {
   "cell_type": "code",
   "execution_count": 6,
   "id": "29302020",
   "metadata": {},
   "outputs": [
    {
     "name": "stdout",
     "output_type": "stream",
     "text": [
      "shape: torch.Size([2, 3])\n",
      " x is : \n",
      "tensor([[2., 3., 4.],\n",
      "        [4., 3., 2.]])\n"
     ]
    }
   ],
   "source": [
    "# list to tensor\n",
    "x = torch.Tensor([[2,3,4],[4,3,2]])\n",
    "print(f'shape: {x.shape}')\n",
    "print(f' x is : \\n{x}')"
   ]
  },
  {
   "cell_type": "code",
   "execution_count": 7,
   "id": "2a1a3033",
   "metadata": {},
   "outputs": [
    {
     "name": "stdout",
     "output_type": "stream",
     "text": [
      " shape: torch.Size([2, 3])\n",
      " values: \n",
      "tensor([[0.5705, 0.5645, 0.4884],\n",
      "        [0.3365, 0.3759, 0.5320]])\n"
     ]
    }
   ],
   "source": [
    "# Numpy array to tensor\n",
    "x =torch.Tensor(np.random.rand(2,3))\n",
    "print(f' shape: {x.shape}')\n",
    "print(f' values: \\n{x}')"
   ]
  },
  {
   "cell_type": "code",
   "execution_count": 8,
   "id": "1d2a03f6",
   "metadata": {},
   "outputs": [
    {
     "name": "stdout",
     "output_type": "stream",
     "text": [
      "Type: torch.FloatTensor\n",
      "type : torch.LongTensor\n"
     ]
    }
   ],
   "source": [
    "# Changing tensortype\n",
    "x = torch.Tensor(3,4)\n",
    "print(f'Type: {x.type()}')\n",
    "x = x.long()\n",
    "print(f'type : {x.type()}')"
   ]
  },
  {
   "cell_type": "code",
   "execution_count": null,
   "id": "97bc7f4b",
   "metadata": {},
   "outputs": [],
   "source": []
  }
 ],
 "metadata": {
  "kernelspec": {
   "display_name": "Python 3 (ipykernel)",
   "language": "python",
   "name": "python3"
  },
  "language_info": {
   "codemirror_mode": {
    "name": "ipython",
    "version": 3
   },
   "file_extension": ".py",
   "mimetype": "text/x-python",
   "name": "python",
   "nbconvert_exporter": "python",
   "pygments_lexer": "ipython3",
   "version": "3.8.10"
  }
 },
 "nbformat": 4,
 "nbformat_minor": 5
}
